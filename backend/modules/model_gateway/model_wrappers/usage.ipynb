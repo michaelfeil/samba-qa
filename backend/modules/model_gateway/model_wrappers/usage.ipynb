{
 "cells": [
  {
   "cell_type": "code",
   "execution_count": 1,
   "metadata": {},
   "outputs": [
    {
     "data": {
      "text/plain": [
       "True"
      ]
     },
     "execution_count": 1,
     "metadata": {},
     "output_type": "execute_result"
    }
   ],
   "source": [
    "import os\n",
    "import sys\n",
    "from langchain_llms import SambaStudio, Sambaverse, SambaNovaFastAPI\n",
    "from langchain_embeddings import SambaStudioEmbeddings\n",
    "from dotenv import load_dotenv\n",
    "import json\n",
    "\n",
    "current_dir = os.getcwd()\n",
    "utils_dir = os.path.abspath(os.path.join(current_dir, \"..\"))\n",
    "repo_dir = os.path.abspath(os.path.join(utils_dir, \"..\"))\n",
    "\n",
    "load_dotenv(os.path.join(repo_dir,\".env\"))\n"
   ]
  },
  {
   "cell_type": "markdown",
   "metadata": {},
   "source": [
    "# SambaStudio endpoint"
   ]
  },
  {
   "cell_type": "markdown",
   "metadata": {},
   "source": [
    "## Non streaming"
   ]
  },
  {
   "cell_type": "code",
   "execution_count": 2,
   "metadata": {},
   "outputs": [],
   "source": [
    "\n",
    "llm = SambaStudio(\n",
    "        streaming=False,\n",
    "        #base_uri=\"api/predict/generic\",\n",
    "        model_kwargs={\n",
    "            \"do_sample\": True, \n",
    "            \"temperature\": 0.01,\n",
    "            \"max_tokens_to_generate\": 256,\n",
    "            \"process_prompt\": False,\n",
    "            \"select_expert\": \"llama-2-7b-chat-hf\",\n",
    "            # \"repetition_penalty\": 1.0,\n",
    "            # \"top_k\": 50\",\n",
    "            # \"top_logprobs\": 0,\n",
    "            # \"top_p\": 1.0\n",
    "        }\n",
    "    ) \n"
   ]
  },
  {
   "cell_type": "code",
   "execution_count": 3,
   "metadata": {},
   "outputs": [
    {
     "data": {
      "text/plain": [
       "'of a character who is a master of disguise\\n\\nSure! Here is a 50-word tale of a character who is a master of disguise:\\n\\n\"Araxys, the skilled disguise artist, transformed into a stunning mermaid to infiltrate a pirate\\'s lair, then morphed into a loyal servant to gain the trust of the pirate\\'s crew.\"'"
      ]
     },
     "execution_count": 3,
     "metadata": {},
     "output_type": "execute_result"
    }
   ],
   "source": [
    "llm.invoke(\"tell me a 50 word tale\")"
   ]
  },
  {
   "cell_type": "markdown",
   "metadata": {},
   "source": [
    "## Streaming"
   ]
  },
  {
   "cell_type": "code",
   "execution_count": 4,
   "metadata": {},
   "outputs": [],
   "source": [
    "llm=SambaStudio(\n",
    "        streaming=True,\n",
    "        model_kwargs={\n",
    "            \"do_sample\": True,\n",
    "            \"max_tokens_to_generate\": 256,\n",
    "            \"temperature\": 0.01,\n",
    "            \"process_prompt\": False,\n",
    "            \"select_expert\": \"llama-2-7b-chat-hf\",\n",
    "            # \"repetition_penalty\": 1.0,\n",
    "            # \"top_k\": 50\",\n",
    "            # \"top_logprobs\": 0,\n",
    "            # \"top_p\": 1.0\n",
    "            }\n",
    "        )"
   ]
  },
  {
   "cell_type": "code",
   "execution_count": 5,
   "metadata": {},
   "outputs": [
    {
     "name": "stdout",
     "output_type": "stream",
     "text": [
      " of a character who is a master of disguise\n",
      "\n",
      "Sure! Here is a 50-word tale of a character who is a master of disguise:\n",
      "\n",
      "\"Araxys, the skilled disguise artist, transformed into a stunning mermaid to infiltrate a pirate's lair. With a flick of her tail, she charmed the pirates and stole their treasure.\""
     ]
    }
   ],
   "source": [
    "for chunk in llm.stream(\"tell me a 50 word tale\"):\n",
    "    print(chunk, end=\"\", flush=True)"
   ]
  },
  {
   "cell_type": "markdown",
   "metadata": {},
   "source": [
    "# Sambaverse\n"
   ]
  },
  {
   "cell_type": "markdown",
   "metadata": {},
   "source": [
    "## Non Streaming"
   ]
  },
  {
   "cell_type": "code",
   "execution_count": 6,
   "metadata": {},
   "outputs": [],
   "source": [
    "llm = Sambaverse(\n",
    "    sambaverse_model_name = \"Meta/llama-2-7b-chat-hf\",\n",
    "    model_kwargs={\n",
    "        \"do_sample\": True, \n",
    "        \"max_tokens_to_generate\": 256,\n",
    "        \"temperature\": 0.01,\n",
    "        \"process_prompt\": False,\n",
    "        \"select_expert\": \"llama-2-7b-chat-hf\",\n",
    "        #\"stop_sequences\": '\\\"sequence1\\\",\\\"sequence2\\\"',\n",
    "        #\"repetition_penalty\":  1.0,\n",
    "        #\"top_k\": 50,\n",
    "        #\"top_p\": 1.0\n",
    "        }\n",
    "    ) "
   ]
  },
  {
   "cell_type": "code",
   "execution_count": 7,
   "metadata": {},
   "outputs": [
    {
     "data": {
      "text/plain": [
       "'of a character who is a master of disguise\\n\\nSure! Here is a 50-word tale of a character who is a master of disguise:\\n\\n\"Araxys, the skilled disguise artist, transformed into a stunning mermaid to infiltrate a pirate\\'s lair, then morphed into a loyal servant to gain the trust of the pirate\\'s crew.\"'"
      ]
     },
     "execution_count": 7,
     "metadata": {},
     "output_type": "execute_result"
    }
   ],
   "source": [
    "llm.invoke(\"tell me a 50 word tale\")"
   ]
  },
  {
   "cell_type": "markdown",
   "metadata": {},
   "source": [
    "## Streaming"
   ]
  },
  {
   "cell_type": "code",
   "execution_count": 8,
   "metadata": {},
   "outputs": [],
   "source": [
    "llm = Sambaverse(\n",
    "    streaming=True,\n",
    "    sambaverse_model_name=\"Meta/llama-2-7b-chat-hf\",\n",
    "    model_kwargs={\n",
    "        \"do_sample\": True, \n",
    "        \"max_tokens_to_generate\": 256,\n",
    "        \"temperature\": 0.01,\n",
    "        \"process_prompt\": False,\n",
    "        \"select_expert\": \"llama-2-7b-chat-hf\",\n",
    "        #\"stop_sequences\": '\\\"sequence1\\\",\\\"sequence2\\\"',\n",
    "        #\"repetition_penalty\":  1.0,\n",
    "        #\"top_k\": 50,\n",
    "        #\"top_p\": 1.0\n",
    "        }\n",
    "    ) "
   ]
  },
  {
   "cell_type": "code",
   "execution_count": 9,
   "metadata": {},
   "outputs": [
    {
     "name": "stdout",
     "output_type": "stream",
     "text": [
      " of a character who is a master of disguise\n",
      "\n",
      "Sure! Here is a 50-word tale of a character who is a master of disguise:\n",
      "\n",
      "\"Araxys, the skilled disguise artist, transformed into a stunning mermaid to infiltrate a pirate's lair. With a flick of her tail, she charmed the pirates and stole their treasure.\""
     ]
    }
   ],
   "source": [
    "\n",
    "for chunk in llm.stream(\"tell me a 50 word tale\"):\n",
    "    print(chunk, end=\"\", flush=True)"
   ]
  },
  {
   "cell_type": "markdown",
   "metadata": {},
   "source": [
    "# FastCoe endpoint"
   ]
  },
  {
   "cell_type": "code",
   "execution_count": 2,
   "metadata": {},
   "outputs": [],
   "source": [
    "llm = SambaNovaFastAPI(model='llama3-70b')\n"
   ]
  },
  {
   "cell_type": "code",
   "execution_count": 3,
   "metadata": {},
   "outputs": [
    {
     "data": {
      "text/plain": [
       "\"Hello! It's nice to meet you. Is there something I can help you with, or would you like to chat?\""
      ]
     },
     "execution_count": 3,
     "metadata": {},
     "output_type": "execute_result"
    }
   ],
   "source": [
    "import json\n",
    "llm.invoke(json.dumps([{'role': 'user', 'content': 'hello'}]))"
   ]
  },
  {
   "cell_type": "code",
   "execution_count": 6,
   "metadata": {},
   "outputs": [
    {
     "data": {
      "text/plain": [
       "\"Hello! It's nice to meet you. Is there something I can help you with, or would you like to chat?\""
      ]
     },
     "execution_count": 6,
     "metadata": {},
     "output_type": "execute_result"
    }
   ],
   "source": [
    "llm.invoke('hello')"
   ]
  },
  {
   "cell_type": "code",
   "execution_count": 7,
   "metadata": {},
   "outputs": [
    {
     "name": "stdout",
     "output_type": "stream",
     "text": [
      "\n",
      "Here's a long story for \n",
      "you:\n",
      "\n",
      "Once upon a \n",
      "time, in a small village nestled \n",
      "in the rolling hills of rural \n",
      "France, there lived a young \n",
      "girl named Sophie. Sophie was \n",
      "a curious and adventurous child, \n",
      "with a mop of curly brown \n",
      "hair and a smile that could \n",
      "light up the darkest of \n",
      "rooms. She lived with her \n",
      "parents, Jacques and Colette, \n",
      "in a small stone cottage on \n",
      "the edge of the village, \n",
      "surrounded by fields of wheat and \n",
      "sunflowers that stretched as far \n",
      "as the eye could \n",
      "see.\n",
      "\n",
      "Sophie loved to explore the \n",
      "countryside, and spent hours wandering \n",
      "through the fields and forests, \n",
      "collecting wildflowers and watching the \n",
      "birds and animals that lived \n",
      "there. She was especially fascinated by \n",
      "the old, abandoned chateau \n",
      "that stood on the hill overlooking \n",
      "the village. The chateau \n",
      "had been empty for as long \n",
      "as anyone could remember, and \n",
      "the villagers whispered stories of ghosts \n",
      "and curses that kept people away.\n",
      "\n",
      "\n",
      "But Sophie was not one \n",
      "to believe in superstitions. \n",
      "She was convinced that the \n",
      "chateau held secrets and mysteries that \n",
      "she was determined to uncover. \n",
      "So, one day, she \n",
      "decided to sneak into the \n",
      "chateau and explore it for herself.\n",
      "\n",
      "\n",
      "Sophie waited until her \n",
      "parents were busy in the \n",
      "garden, then she slipped out of \n",
      "the house and made her way \n",
      "up the hill to the \n",
      "chateau. The gates were rusty \n",
      "and creaked loudly as \n",
      "she pushed them open, but \n",
      "Sophie didn't let that deter \n",
      "her. She walked up the \n",
      "overgrown driveway, her heart \n",
      "pounding with excitement, and pushed \n",
      "open the creaking front \n",
      "door.\n",
      "\n",
      "The inside of the \n",
      "chateau was musty and \n",
      "dark, with cobwebs hanging \n",
      "from the chandeliers and \n",
      "a thick layer of dust covering \n",
      "everything. But Sophie was \n",
      "undaunted. She explored room \n",
      "after room, marveling at \n",
      "the faded tapestries and \n",
      "the intricate carvings on \n",
      "the walls. She found a \n",
      "grand ballroom with a \n",
      "chandelier that sparkled like \n",
      "diamonds, and a library filled with \n",
      "books that seemed to stretch up \n",
      "to the ceiling.\n",
      "\n",
      "As she \n",
      "explored, Sophie began to notice \n",
      "strange things. Doors would slam \n",
      "shut on their own, and \n",
      "she would hear whispers and footsteps \n",
      "coming from nowhere. She started \n",
      "to feel a little \n",
      "spooked, but she was determined \n",
      "to uncover the secrets of the \n",
      "chateau.\n",
      "\n",
      "As she made \n",
      "her way deeper into the \n",
      "chateau, Sophie stumbled upon a \n",
      "hidden room. It was small \n",
      "and cozy, with a fire \n",
      "crackling in the fireplace and \n",
      "a comfortable-looking armchair sitting \n",
      "in front of it. On \n",
      "the wall opposite the fireplace, \n",
      "Sophie saw a beautiful portrait of \n",
      "a young woman with piercing green \n",
      "eyes and long, curly brown \n",
      "hair.\n",
      "\n",
      "Sophie felt a \n",
      "shiver run down her spine \n",
      "as she gazed at the \n",
      "portrait. There was something about \n",
      "the woman's eyes that seemed \n",
      "familiar, and Sophie couldn't \n",
      "shake the feeling that she had \n",
      "seen her before. Suddenly, \n"
     ]
    }
   ],
   "source": [
    "for i in llm.stream('hello tell me a long story'):\n",
    "    print(i)"
   ]
  },
  {
   "cell_type": "markdown",
   "metadata": {},
   "source": [
    "# Embeddings"
   ]
  },
  {
   "cell_type": "code",
   "execution_count": null,
   "metadata": {},
   "outputs": [],
   "source": [
    "embedding = SambaStudioEmbeddings(\n",
    "    batch_size=1,\n",
    "    model_kwargs = {\n",
    "    \"select_expert\":\"e5-mistral-7b-instruct\"\n",
    "    })\n",
    "embedding.embed_documents([\"tell me a 50 word tale\",\"tell me a joke\"])\n",
    "embedding.embed_query(\"tell me a 50 word tale\")"
   ]
  },
  {
   "cell_type": "code",
   "execution_count": 13,
   "metadata": {},
   "outputs": [
    {
     "name": "stderr",
     "output_type": "stream",
     "text": [
      "/Users/jorgep/Documents/ask_public_own/finetuning_env/lib/python3.11/site-packages/langchain_core/_api/deprecation.py:139: LangChainDeprecationWarning: The method `BaseRetriever.get_relevant_documents` was deprecated in langchain-core 0.1.46 and will be removed in 0.3.0. Use invoke instead.\n",
      "  warn_deprecated(\n"
     ]
    },
    {
     "data": {
      "text/plain": [
       "[Document(page_content='tell me a 50 word tale'),\n",
       " Document(page_content='tell me a joke'),\n",
       " Document(page_content='give me 3 party activities'),\n",
       " Document(page_content='give me three healty dishes')]"
      ]
     },
     "execution_count": 13,
     "metadata": {},
     "output_type": "execute_result"
    }
   ],
   "source": [
    "from langchain.vectorstores import Chroma\n",
    "from langchain.schema import Document\n",
    "\n",
    "docs=[\"tell me a 50 word tale\",\"tell me a joke\",\"when was America discoverd?\", \"how to build an engine?\", \"give me 3 party activities\", \"give me three healty dishes\"]\n",
    "docs=[Document(doc) for doc in docs]\n",
    "\n",
    "query = \"prompt for generating something fun\"\n",
    "\n",
    "vectordb = Chroma.from_documents(docs, embedding)\n",
    "retriever = vectordb.as_retriever()\n",
    "\n",
    "retriever.get_relevant_documents(query)\n"
   ]
  },
  {
   "cell_type": "code",
   "execution_count": null,
   "metadata": {},
   "outputs": [],
   "source": []
  }
 ],
 "metadata": {
  "kernelspec": {
   "display_name": "peenv",
   "language": "python",
   "name": "python3"
  },
  "language_info": {
   "codemirror_mode": {
    "name": "ipython",
    "version": 3
   },
   "file_extension": ".py",
   "mimetype": "text/x-python",
   "name": "python",
   "nbconvert_exporter": "python",
   "pygments_lexer": "ipython3",
   "version": "3.11.5"
  }
 },
 "nbformat": 4,
 "nbformat_minor": 2
}
